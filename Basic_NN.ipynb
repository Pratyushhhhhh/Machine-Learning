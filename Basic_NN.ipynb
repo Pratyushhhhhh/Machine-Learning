{
 "cells": [
  {
   "cell_type": "code",
   "execution_count": 1,
   "id": "d4c39c64",
   "metadata": {
    "execution": {
     "iopub.execute_input": "2025-03-10T16:53:26.215554Z",
     "iopub.status.busy": "2025-03-10T16:53:26.215133Z",
     "iopub.status.idle": "2025-03-10T16:53:27.375636Z",
     "shell.execute_reply": "2025-03-10T16:53:27.374471Z"
    },
    "papermill": {
     "duration": 1.168583,
     "end_time": "2025-03-10T16:53:27.377796",
     "exception": false,
     "start_time": "2025-03-10T16:53:26.209213",
     "status": "completed"
    },
    "tags": []
   },
   "outputs": [],
   "source": [
    "import numpy as np\n",
    "import pandas as pd\n",
    "from matplotlib import pyplot as plt"
   ]
  },
  {
   "cell_type": "code",
   "execution_count": 2,
   "id": "c42e8b3f",
   "metadata": {
    "execution": {
     "iopub.execute_input": "2025-03-10T16:53:27.388283Z",
     "iopub.status.busy": "2025-03-10T16:53:27.387778Z",
     "iopub.status.idle": "2025-03-10T16:53:30.806009Z",
     "shell.execute_reply": "2025-03-10T16:53:30.804823Z"
    },
    "papermill": {
     "duration": 3.425381,
     "end_time": "2025-03-10T16:53:30.808081",
     "exception": false,
     "start_time": "2025-03-10T16:53:27.382700",
     "status": "completed"
    },
    "tags": []
   },
   "outputs": [],
   "source": [
    "data= pd.read_csv('/kaggle/input/digit-recognizer/train.csv')"
   ]
  },
  {
   "cell_type": "code",
   "execution_count": 3,
   "id": "ac7a9594",
   "metadata": {
    "execution": {
     "iopub.execute_input": "2025-03-10T16:53:30.818585Z",
     "iopub.status.busy": "2025-03-10T16:53:30.818182Z",
     "iopub.status.idle": "2025-03-10T16:53:30.850893Z",
     "shell.execute_reply": "2025-03-10T16:53:30.849707Z"
    },
    "papermill": {
     "duration": 0.039931,
     "end_time": "2025-03-10T16:53:30.852844",
     "exception": false,
     "start_time": "2025-03-10T16:53:30.812913",
     "status": "completed"
    },
    "tags": []
   },
   "outputs": [
    {
     "data": {
      "text/html": [
       "<div>\n",
       "<style scoped>\n",
       "    .dataframe tbody tr th:only-of-type {\n",
       "        vertical-align: middle;\n",
       "    }\n",
       "\n",
       "    .dataframe tbody tr th {\n",
       "        vertical-align: top;\n",
       "    }\n",
       "\n",
       "    .dataframe thead th {\n",
       "        text-align: right;\n",
       "    }\n",
       "</style>\n",
       "<table border=\"1\" class=\"dataframe\">\n",
       "  <thead>\n",
       "    <tr style=\"text-align: right;\">\n",
       "      <th></th>\n",
       "      <th>label</th>\n",
       "      <th>pixel0</th>\n",
       "      <th>pixel1</th>\n",
       "      <th>pixel2</th>\n",
       "      <th>pixel3</th>\n",
       "      <th>pixel4</th>\n",
       "      <th>pixel5</th>\n",
       "      <th>pixel6</th>\n",
       "      <th>pixel7</th>\n",
       "      <th>pixel8</th>\n",
       "      <th>...</th>\n",
       "      <th>pixel774</th>\n",
       "      <th>pixel775</th>\n",
       "      <th>pixel776</th>\n",
       "      <th>pixel777</th>\n",
       "      <th>pixel778</th>\n",
       "      <th>pixel779</th>\n",
       "      <th>pixel780</th>\n",
       "      <th>pixel781</th>\n",
       "      <th>pixel782</th>\n",
       "      <th>pixel783</th>\n",
       "    </tr>\n",
       "  </thead>\n",
       "  <tbody>\n",
       "    <tr>\n",
       "      <th>0</th>\n",
       "      <td>1</td>\n",
       "      <td>0</td>\n",
       "      <td>0</td>\n",
       "      <td>0</td>\n",
       "      <td>0</td>\n",
       "      <td>0</td>\n",
       "      <td>0</td>\n",
       "      <td>0</td>\n",
       "      <td>0</td>\n",
       "      <td>0</td>\n",
       "      <td>...</td>\n",
       "      <td>0</td>\n",
       "      <td>0</td>\n",
       "      <td>0</td>\n",
       "      <td>0</td>\n",
       "      <td>0</td>\n",
       "      <td>0</td>\n",
       "      <td>0</td>\n",
       "      <td>0</td>\n",
       "      <td>0</td>\n",
       "      <td>0</td>\n",
       "    </tr>\n",
       "    <tr>\n",
       "      <th>1</th>\n",
       "      <td>0</td>\n",
       "      <td>0</td>\n",
       "      <td>0</td>\n",
       "      <td>0</td>\n",
       "      <td>0</td>\n",
       "      <td>0</td>\n",
       "      <td>0</td>\n",
       "      <td>0</td>\n",
       "      <td>0</td>\n",
       "      <td>0</td>\n",
       "      <td>...</td>\n",
       "      <td>0</td>\n",
       "      <td>0</td>\n",
       "      <td>0</td>\n",
       "      <td>0</td>\n",
       "      <td>0</td>\n",
       "      <td>0</td>\n",
       "      <td>0</td>\n",
       "      <td>0</td>\n",
       "      <td>0</td>\n",
       "      <td>0</td>\n",
       "    </tr>\n",
       "    <tr>\n",
       "      <th>2</th>\n",
       "      <td>1</td>\n",
       "      <td>0</td>\n",
       "      <td>0</td>\n",
       "      <td>0</td>\n",
       "      <td>0</td>\n",
       "      <td>0</td>\n",
       "      <td>0</td>\n",
       "      <td>0</td>\n",
       "      <td>0</td>\n",
       "      <td>0</td>\n",
       "      <td>...</td>\n",
       "      <td>0</td>\n",
       "      <td>0</td>\n",
       "      <td>0</td>\n",
       "      <td>0</td>\n",
       "      <td>0</td>\n",
       "      <td>0</td>\n",
       "      <td>0</td>\n",
       "      <td>0</td>\n",
       "      <td>0</td>\n",
       "      <td>0</td>\n",
       "    </tr>\n",
       "    <tr>\n",
       "      <th>3</th>\n",
       "      <td>4</td>\n",
       "      <td>0</td>\n",
       "      <td>0</td>\n",
       "      <td>0</td>\n",
       "      <td>0</td>\n",
       "      <td>0</td>\n",
       "      <td>0</td>\n",
       "      <td>0</td>\n",
       "      <td>0</td>\n",
       "      <td>0</td>\n",
       "      <td>...</td>\n",
       "      <td>0</td>\n",
       "      <td>0</td>\n",
       "      <td>0</td>\n",
       "      <td>0</td>\n",
       "      <td>0</td>\n",
       "      <td>0</td>\n",
       "      <td>0</td>\n",
       "      <td>0</td>\n",
       "      <td>0</td>\n",
       "      <td>0</td>\n",
       "    </tr>\n",
       "    <tr>\n",
       "      <th>4</th>\n",
       "      <td>0</td>\n",
       "      <td>0</td>\n",
       "      <td>0</td>\n",
       "      <td>0</td>\n",
       "      <td>0</td>\n",
       "      <td>0</td>\n",
       "      <td>0</td>\n",
       "      <td>0</td>\n",
       "      <td>0</td>\n",
       "      <td>0</td>\n",
       "      <td>...</td>\n",
       "      <td>0</td>\n",
       "      <td>0</td>\n",
       "      <td>0</td>\n",
       "      <td>0</td>\n",
       "      <td>0</td>\n",
       "      <td>0</td>\n",
       "      <td>0</td>\n",
       "      <td>0</td>\n",
       "      <td>0</td>\n",
       "      <td>0</td>\n",
       "    </tr>\n",
       "  </tbody>\n",
       "</table>\n",
       "<p>5 rows × 785 columns</p>\n",
       "</div>"
      ],
      "text/plain": [
       "   label  pixel0  pixel1  pixel2  pixel3  pixel4  pixel5  pixel6  pixel7  \\\n",
       "0      1       0       0       0       0       0       0       0       0   \n",
       "1      0       0       0       0       0       0       0       0       0   \n",
       "2      1       0       0       0       0       0       0       0       0   \n",
       "3      4       0       0       0       0       0       0       0       0   \n",
       "4      0       0       0       0       0       0       0       0       0   \n",
       "\n",
       "   pixel8  ...  pixel774  pixel775  pixel776  pixel777  pixel778  pixel779  \\\n",
       "0       0  ...         0         0         0         0         0         0   \n",
       "1       0  ...         0         0         0         0         0         0   \n",
       "2       0  ...         0         0         0         0         0         0   \n",
       "3       0  ...         0         0         0         0         0         0   \n",
       "4       0  ...         0         0         0         0         0         0   \n",
       "\n",
       "   pixel780  pixel781  pixel782  pixel783  \n",
       "0         0         0         0         0  \n",
       "1         0         0         0         0  \n",
       "2         0         0         0         0  \n",
       "3         0         0         0         0  \n",
       "4         0         0         0         0  \n",
       "\n",
       "[5 rows x 785 columns]"
      ]
     },
     "execution_count": 3,
     "metadata": {},
     "output_type": "execute_result"
    }
   ],
   "source": [
    "data.head()"
   ]
  },
  {
   "cell_type": "code",
   "execution_count": 4,
   "id": "6e56723f",
   "metadata": {
    "execution": {
     "iopub.execute_input": "2025-03-10T16:53:30.863140Z",
     "iopub.status.busy": "2025-03-10T16:53:30.862733Z",
     "iopub.status.idle": "2025-03-10T16:53:30.984123Z",
     "shell.execute_reply": "2025-03-10T16:53:30.983149Z"
    },
    "papermill": {
     "duration": 0.12883,
     "end_time": "2025-03-10T16:53:30.986075",
     "exception": false,
     "start_time": "2025-03-10T16:53:30.857245",
     "status": "completed"
    },
    "tags": []
   },
   "outputs": [],
   "source": [
    "data=np.array(data)"
   ]
  },
  {
   "cell_type": "markdown",
   "id": "39104dd6",
   "metadata": {
    "papermill": {
     "duration": 0.004013,
     "end_time": "2025-03-10T16:53:30.994480",
     "exception": false,
     "start_time": "2025-03-10T16:53:30.990467",
     "status": "completed"
    },
    "tags": []
   },
   "source": [
    "train and dev set"
   ]
  },
  {
   "cell_type": "code",
   "execution_count": 5,
   "id": "a7507a52",
   "metadata": {
    "execution": {
     "iopub.execute_input": "2025-03-10T16:53:31.004602Z",
     "iopub.status.busy": "2025-03-10T16:53:31.004186Z",
     "iopub.status.idle": "2025-03-10T16:53:31.789218Z",
     "shell.execute_reply": "2025-03-10T16:53:31.788178Z"
    },
    "papermill": {
     "duration": 0.792373,
     "end_time": "2025-03-10T16:53:31.791081",
     "exception": false,
     "start_time": "2025-03-10T16:53:30.998708",
     "status": "completed"
    },
    "tags": []
   },
   "outputs": [],
   "source": [
    "m ,n = data.shape\n",
    "np.random.shuffle(data)\n",
    "data_dev = data[0:1000].T\n",
    "Y_dev = data_dev[0]\n",
    "X_dev = data_dev[1:n]\n",
    "\n",
    "\n",
    "data_train = data[1000:m].T\n",
    "Y_train = data_train[0]\n",
    "X_train = data_train[1:n]\n",
    "\n",
    "_,m_train = X_train.shape\n",
    "\n",
    "X_train = X_train / 255.0  # Normalize to [0,1] range\n",
    "X_dev = X_dev / 255.0\n"
   ]
  },
  {
   "cell_type": "code",
   "execution_count": 6,
   "id": "ed2f2057",
   "metadata": {
    "execution": {
     "iopub.execute_input": "2025-03-10T16:53:31.803711Z",
     "iopub.status.busy": "2025-03-10T16:53:31.803343Z",
     "iopub.status.idle": "2025-03-10T16:53:31.809138Z",
     "shell.execute_reply": "2025-03-10T16:53:31.807959Z"
    },
    "papermill": {
     "duration": 0.014623,
     "end_time": "2025-03-10T16:53:31.811285",
     "exception": false,
     "start_time": "2025-03-10T16:53:31.796662",
     "status": "completed"
    },
    "tags": []
   },
   "outputs": [],
   "source": [
    "def init_params():\n",
    "    'W1 = np.random.randn(10, 784) - 0.5'\n",
    "    'W2 = np.random.randn(10, 10) - 0.5 Xavier Initialization'\n",
    "    W1 = np.random.randn(10, 784) * np.sqrt(1 / 784)\n",
    "    W2 = np.random.randn(10, 10) * np.sqrt(1 / 10)\n",
    "    b1 = np.random.randn(10,1) - 0.5\n",
    "    b2 = np.random.randn(10,1) - 0.5\n",
    "    return W1 , b1 ,W2 , b2"
   ]
  },
  {
   "cell_type": "code",
   "execution_count": 7,
   "id": "d3de03fd",
   "metadata": {
    "execution": {
     "iopub.execute_input": "2025-03-10T16:53:31.821712Z",
     "iopub.status.busy": "2025-03-10T16:53:31.821264Z",
     "iopub.status.idle": "2025-03-10T16:53:31.827950Z",
     "shell.execute_reply": "2025-03-10T16:53:31.826481Z"
    },
    "papermill": {
     "duration": 0.014109,
     "end_time": "2025-03-10T16:53:31.829945",
     "exception": false,
     "start_time": "2025-03-10T16:53:31.815836",
     "status": "completed"
    },
    "tags": []
   },
   "outputs": [],
   "source": [
    "def ReLU(Z):\n",
    "    return np.maximum(Z ,0)\n",
    "\n",
    "def softmax(Z):\n",
    "    exp_Z = np.exp(Z - np.max(Z, axis=0, keepdims=True))  # Numerical stability\n",
    "    return exp_Z / np.sum(exp_Z, axis=0, keepdims=True)   # Normalize along axis=0\n",
    "\n",
    "\n",
    "def forward_prop(W1,b1,W2,b2,X):\n",
    "    Z1 = W1.dot(X)+b1\n",
    "    A1 = ReLU(Z1)\n",
    "    Z2 = W2.dot(A1)+b2\n",
    "    A2 = softmax(Z2)\n",
    "    return Z1 ,A1 ,Z2 ,A2"
   ]
  },
  {
   "cell_type": "code",
   "execution_count": 8,
   "id": "fed109d4",
   "metadata": {
    "execution": {
     "iopub.execute_input": "2025-03-10T16:53:31.840938Z",
     "iopub.status.busy": "2025-03-10T16:53:31.840478Z",
     "iopub.status.idle": "2025-03-10T16:53:31.848069Z",
     "shell.execute_reply": "2025-03-10T16:53:31.846847Z"
    },
    "papermill": {
     "duration": 0.015018,
     "end_time": "2025-03-10T16:53:31.850013",
     "exception": false,
     "start_time": "2025-03-10T16:53:31.834995",
     "status": "completed"
    },
    "tags": []
   },
   "outputs": [],
   "source": [
    "'''def one_hot(Y):\n",
    "    one_hot_Y = np.zeros(Y.size ,Y.max()+1)\n",
    "    one_hot_Y[np.arange(Y.size ,Y)] = 1\n",
    "    one_hot_Y = one_hot_Y.T\n",
    "    return one_hot_Y'''\n",
    "\n",
    "'''def one_hot(Y):\n",
    "    one_hot_Y = np.zeros((Y.max() + 1, Y.size))  # Correct shape (num_classes, num_samples)\n",
    "    one_hot_Y[Y, np.arange(Y.size)] = 1  # Proper indexing\n",
    "    return one_hot_Y'''\n",
    "def one_hot(Y):\n",
    "    one_hot_Y = np.zeros((Y.max()+1, Y.size))  # Create (classes, samples) shape\n",
    "    one_hot_Y[Y, np.arange(Y.size)] = 1  # Correct indexing\n",
    "    return one_hot_Y\n",
    "\n",
    "\n",
    "\n",
    "def derv_ReLU(Z):\n",
    "    return Z > 0\n",
    "    \n",
    "def backward_prop(Z1,A1,Z2,A2,W2,Y,X):\n",
    "    one_hot_Y = one_hot(Y)\n",
    "    dZ2 = A2 - one_hot_Y\n",
    "    m = Y.size\n",
    "    dW2 = dZ2.dot(A2.T) / m\n",
    "    db2 = np.sum(dZ2,axis=1, keepdims=True) / m\n",
    "    dZ1 = W2.T.dot(dZ2) * derv_ReLU(Z1)\n",
    "    dW1 = dZ1.dot(X.T) / m\n",
    "    db1 = np.sum(dZ1 ,axis=1, keepdims=True) / m\n",
    "    \n",
    "    return dW1 , db1, dW2 ,db2"
   ]
  },
  {
   "cell_type": "code",
   "execution_count": 9,
   "id": "465cf99f",
   "metadata": {
    "execution": {
     "iopub.execute_input": "2025-03-10T16:53:31.860820Z",
     "iopub.status.busy": "2025-03-10T16:53:31.860405Z",
     "iopub.status.idle": "2025-03-10T16:53:31.865980Z",
     "shell.execute_reply": "2025-03-10T16:53:31.864735Z"
    },
    "papermill": {
     "duration": 0.013687,
     "end_time": "2025-03-10T16:53:31.868215",
     "exception": false,
     "start_time": "2025-03-10T16:53:31.854528",
     "status": "completed"
    },
    "tags": []
   },
   "outputs": [],
   "source": [
    "def update_params(W1,b1 ,W2, b2 ,dW1 ,db1 ,dW2 ,db2 ,alpha):\n",
    "    W1 = W1 -alpha * dW1\n",
    "    b1 = b1 -alpha * db2\n",
    "    W2 = W2 -alpha * dW2\n",
    "    b2 = b2 -alpha * db2\n",
    "    return W1,b1 ,W2, b2 \n"
   ]
  },
  {
   "cell_type": "markdown",
   "id": "e62efbf4",
   "metadata": {
    "papermill": {
     "duration": 0.004058,
     "end_time": "2025-03-10T16:53:31.876825",
     "exception": false,
     "start_time": "2025-03-10T16:53:31.872767",
     "status": "completed"
    },
    "tags": []
   },
   "source": [
    "highest prop among the rows of A2 final output class\n"
   ]
  },
  {
   "cell_type": "code",
   "execution_count": 10,
   "id": "7558301d",
   "metadata": {
    "execution": {
     "iopub.execute_input": "2025-03-10T16:53:31.886721Z",
     "iopub.status.busy": "2025-03-10T16:53:31.886336Z",
     "iopub.status.idle": "2025-03-10T16:53:31.894049Z",
     "shell.execute_reply": "2025-03-10T16:53:31.892855Z"
    },
    "papermill": {
     "duration": 0.014779,
     "end_time": "2025-03-10T16:53:31.895835",
     "exception": false,
     "start_time": "2025-03-10T16:53:31.881056",
     "status": "completed"
    },
    "tags": []
   },
   "outputs": [],
   "source": [
    "'highest prop among the rows of A2 final output class'\n",
    "def get_pred (A2):\n",
    "    return np.argmax(A2 ,0)\n",
    "\n",
    "'sums all right pred and divide by total values'\n",
    "def get_acc (pred, Y):\n",
    "    print(pred , Y)\n",
    "    return np.sum(pred == Y) / Y.size\n",
    "    \n",
    "def gradiant_des(X ,Y ,iterations ,alpha):\n",
    "    W1,b1 ,W2, b2 = init_params()\n",
    "    for i in range(iterations):\n",
    "        Z1,A1,Z2,A2  =  forward_prop(W1,b1,W2,b2,X)\n",
    "        dW1 , db1, dW2 ,db2 = backward_prop(Z1,A1,Z2,A2,W2,Y,X)\n",
    "        W1,b1 ,W2, b2 = update_params(W1,b1 ,W2, b2 ,dW1 ,db1 ,dW2 ,db2 ,alpha)\n",
    "        if (i % 10 == 0):\n",
    "            print(\"Iteration: \", i)\n",
    "            pred = get_pred(A2)\n",
    "            print(\"Accuracy: 0\", get_acc(pred,Y))\n",
    "    return W1 ,b1,W2,b2"
   ]
  },
  {
   "cell_type": "code",
   "execution_count": 11,
   "id": "b44cbfcc",
   "metadata": {
    "execution": {
     "iopub.execute_input": "2025-03-10T16:53:31.905967Z",
     "iopub.status.busy": "2025-03-10T16:53:31.905485Z",
     "iopub.status.idle": "2025-03-10T16:54:10.388989Z",
     "shell.execute_reply": "2025-03-10T16:54:10.387835Z"
    },
    "papermill": {
     "duration": 38.490812,
     "end_time": "2025-03-10T16:54:10.391203",
     "exception": false,
     "start_time": "2025-03-10T16:53:31.900391",
     "status": "completed"
    },
    "tags": []
   },
   "outputs": [
    {
     "name": "stdout",
     "output_type": "stream",
     "text": [
      "Iteration:  0\n",
      "[7 7 7 ... 7 7 7] [4 0 4 ... 8 7 9]\n",
      "Accuracy: 0 0.10463414634146341\n",
      "Iteration:  10\n",
      "[7 7 7 ... 7 7 7] [4 0 4 ... 8 7 9]\n",
      "Accuracy: 0 0.11404878048780488\n",
      "Iteration:  20\n",
      "[7 2 7 ... 7 7 7] [4 0 4 ... 8 7 9]\n",
      "Accuracy: 0 0.25478048780487805\n",
      "Iteration:  30\n",
      "[2 2 7 ... 7 7 7] [4 0 4 ... 8 7 9]\n",
      "Accuracy: 0 0.3304146341463415\n",
      "Iteration:  40\n",
      "[5 0 5 ... 8 7 7] [4 0 4 ... 8 7 9]\n",
      "Accuracy: 0 0.3555121951219512\n",
      "Iteration:  50\n",
      "[5 0 5 ... 8 7 7] [4 0 4 ... 8 7 9]\n",
      "Accuracy: 0 0.3910487804878049\n",
      "Iteration:  60\n",
      "[5 0 5 ... 8 7 7] [4 0 4 ... 8 7 9]\n",
      "Accuracy: 0 0.44141463414634147\n",
      "Iteration:  70\n",
      "[5 0 5 ... 8 7 5] [4 0 4 ... 8 7 9]\n",
      "Accuracy: 0 0.46912195121951217\n",
      "Iteration:  80\n",
      "[5 0 5 ... 8 7 5] [4 0 4 ... 8 7 9]\n",
      "Accuracy: 0 0.4878048780487805\n",
      "Iteration:  90\n",
      "[5 0 5 ... 8 7 5] [4 0 4 ... 8 7 9]\n",
      "Accuracy: 0 0.504780487804878\n",
      "Iteration:  100\n",
      "[5 0 5 ... 8 7 5] [4 0 4 ... 8 7 9]\n",
      "Accuracy: 0 0.5199512195121951\n",
      "Iteration:  110\n",
      "[5 0 5 ... 8 7 5] [4 0 4 ... 8 7 9]\n",
      "Accuracy: 0 0.534390243902439\n",
      "Iteration:  120\n",
      "[5 0 5 ... 8 7 5] [4 0 4 ... 8 7 9]\n",
      "Accuracy: 0 0.5507073170731708\n",
      "Iteration:  130\n",
      "[5 0 4 ... 8 7 5] [4 0 4 ... 8 7 9]\n",
      "Accuracy: 0 0.5707560975609756\n",
      "Iteration:  140\n",
      "[5 0 4 ... 8 7 5] [4 0 4 ... 8 7 9]\n",
      "Accuracy: 0 0.5877317073170731\n",
      "Iteration:  150\n",
      "[5 0 4 ... 8 7 7] [4 0 4 ... 8 7 9]\n",
      "Accuracy: 0 0.6028292682926829\n",
      "Iteration:  160\n",
      "[5 0 4 ... 8 4 7] [4 0 4 ... 8 7 9]\n",
      "Accuracy: 0 0.6148780487804878\n",
      "Iteration:  170\n",
      "[5 0 4 ... 8 4 7] [4 0 4 ... 8 7 9]\n",
      "Accuracy: 0 0.6235853658536585\n",
      "Iteration:  180\n",
      "[5 0 4 ... 8 4 4] [4 0 4 ... 8 7 9]\n",
      "Accuracy: 0 0.6316341463414634\n",
      "Iteration:  190\n",
      "[5 0 4 ... 8 4 4] [4 0 4 ... 8 7 9]\n",
      "Accuracy: 0 0.6370731707317073\n",
      "Iteration:  200\n",
      "[5 0 4 ... 8 4 4] [4 0 4 ... 8 7 9]\n",
      "Accuracy: 0 0.6420975609756098\n",
      "Iteration:  210\n",
      "[5 0 4 ... 8 4 4] [4 0 4 ... 8 7 9]\n",
      "Accuracy: 0 0.6470243902439025\n",
      "Iteration:  220\n",
      "[5 0 4 ... 8 4 4] [4 0 4 ... 8 7 9]\n",
      "Accuracy: 0 0.6509512195121951\n",
      "Iteration:  230\n",
      "[5 0 4 ... 8 4 4] [4 0 4 ... 8 7 9]\n",
      "Accuracy: 0 0.6546585365853659\n",
      "Iteration:  240\n",
      "[5 0 4 ... 8 4 4] [4 0 4 ... 8 7 9]\n",
      "Accuracy: 0 0.6593170731707317\n",
      "Iteration:  250\n",
      "[5 0 4 ... 8 4 9] [4 0 4 ... 8 7 9]\n",
      "Accuracy: 0 0.662\n",
      "Iteration:  260\n",
      "[5 0 4 ... 8 4 9] [4 0 4 ... 8 7 9]\n",
      "Accuracy: 0 0.6652439024390244\n",
      "Iteration:  270\n",
      "[5 0 4 ... 8 4 9] [4 0 4 ... 8 7 9]\n",
      "Accuracy: 0 0.6690975609756098\n",
      "Iteration:  280\n",
      "[5 0 4 ... 8 7 9] [4 0 4 ... 8 7 9]\n",
      "Accuracy: 0 0.6719024390243903\n",
      "Iteration:  290\n",
      "[5 0 4 ... 8 7 9] [4 0 4 ... 8 7 9]\n",
      "Accuracy: 0 0.6753902439024391\n",
      "Iteration:  300\n",
      "[5 0 4 ... 8 7 7] [4 0 4 ... 8 7 9]\n",
      "Accuracy: 0 0.6790243902439025\n",
      "Iteration:  310\n",
      "[5 0 4 ... 8 7 7] [4 0 4 ... 8 7 9]\n",
      "Accuracy: 0 0.6821707317073171\n",
      "Iteration:  320\n",
      "[5 0 4 ... 8 7 7] [4 0 4 ... 8 7 9]\n",
      "Accuracy: 0 0.6847073170731708\n",
      "Iteration:  330\n",
      "[5 0 4 ... 8 7 7] [4 0 4 ... 8 7 9]\n",
      "Accuracy: 0 0.6872682926829269\n",
      "Iteration:  340\n",
      "[5 0 4 ... 8 7 7] [4 0 4 ... 8 7 9]\n",
      "Accuracy: 0 0.6905853658536585\n",
      "Iteration:  350\n",
      "[5 0 4 ... 8 7 7] [4 0 4 ... 8 7 9]\n",
      "Accuracy: 0 0.6940243902439024\n",
      "Iteration:  360\n",
      "[5 0 4 ... 8 7 7] [4 0 4 ... 8 7 9]\n",
      "Accuracy: 0 0.6970243902439024\n",
      "Iteration:  370\n",
      "[5 0 4 ... 8 7 7] [4 0 4 ... 8 7 9]\n",
      "Accuracy: 0 0.7019268292682926\n",
      "Iteration:  380\n",
      "[5 0 4 ... 8 7 7] [4 0 4 ... 8 7 9]\n",
      "Accuracy: 0 0.7080243902439024\n",
      "Iteration:  390\n",
      "[5 0 4 ... 8 7 7] [4 0 4 ... 8 7 9]\n",
      "Accuracy: 0 0.715\n",
      "Iteration:  400\n",
      "[5 0 4 ... 8 7 7] [4 0 4 ... 8 7 9]\n",
      "Accuracy: 0 0.7203414634146341\n",
      "Iteration:  410\n",
      "[5 0 4 ... 8 7 7] [4 0 4 ... 8 7 9]\n",
      "Accuracy: 0 0.7241951219512195\n",
      "Iteration:  420\n",
      "[5 0 4 ... 8 7 7] [4 0 4 ... 8 7 9]\n",
      "Accuracy: 0 0.728\n",
      "Iteration:  430\n",
      "[5 0 4 ... 8 7 7] [4 0 4 ... 8 7 9]\n",
      "Accuracy: 0 0.7305609756097561\n",
      "Iteration:  440\n",
      "[5 0 4 ... 8 7 7] [4 0 4 ... 8 7 9]\n",
      "Accuracy: 0 0.7339268292682927\n",
      "Iteration:  450\n",
      "[5 0 4 ... 8 7 7] [4 0 4 ... 8 7 9]\n",
      "Accuracy: 0 0.736390243902439\n",
      "Iteration:  460\n",
      "[5 0 4 ... 8 7 7] [4 0 4 ... 8 7 9]\n",
      "Accuracy: 0 0.7395121951219512\n",
      "Iteration:  470\n",
      "[5 0 4 ... 8 7 7] [4 0 4 ... 8 7 9]\n",
      "Accuracy: 0 0.7415365853658537\n",
      "Iteration:  480\n",
      "[5 0 4 ... 8 7 7] [4 0 4 ... 8 7 9]\n",
      "Accuracy: 0 0.7433170731707317\n",
      "Iteration:  490\n",
      "[5 0 4 ... 8 7 7] [4 0 4 ... 8 7 9]\n",
      "Accuracy: 0 0.7456585365853658\n"
     ]
    }
   ],
   "source": [
    "W1 ,b1,W2,b2 = gradiant_des(X_train,Y_train,500,0.1)"
   ]
  },
  {
   "cell_type": "code",
   "execution_count": 12,
   "id": "89c17717",
   "metadata": {
    "execution": {
     "iopub.execute_input": "2025-03-10T16:54:10.409295Z",
     "iopub.status.busy": "2025-03-10T16:54:10.408843Z",
     "iopub.status.idle": "2025-03-10T16:54:10.415352Z",
     "shell.execute_reply": "2025-03-10T16:54:10.414206Z"
    },
    "papermill": {
     "duration": 0.017133,
     "end_time": "2025-03-10T16:54:10.417280",
     "exception": false,
     "start_time": "2025-03-10T16:54:10.400147",
     "status": "completed"
    },
    "tags": []
   },
   "outputs": [],
   "source": [
    "def make_pred(X, W1 ,b1, W2 , b2):\n",
    "    _,_,_,A2 = forward_prop(W1,b1,W2,b2,X)\n",
    "    pred = get_pred(A2)\n",
    "    return pred\n",
    "\n",
    "def test_pred(index,W1,b1,W2,b2):\n",
    "    current_image=X_train[:, index, None]\n",
    "    pred = make_pred(X_train[:, index, None],W1 ,b1, W2 , b2)\n",
    "    label = Y_train[index]\n",
    "    print(\"Prediction: \",pred)\n",
    "    print(\"Label: \",label)\n",
    "\n",
    "    current_image = current_image.reshape((28,28)) * 255\n",
    "    plt.gray()\n",
    "    plt.imshow(current_image ,interpolation='nearest')\n",
    "    plt.show()"
   ]
  },
  {
   "cell_type": "code",
   "execution_count": 13,
   "id": "6ce08369",
   "metadata": {
    "execution": {
     "iopub.execute_input": "2025-03-10T16:54:10.433065Z",
     "iopub.status.busy": "2025-03-10T16:54:10.432705Z",
     "iopub.status.idle": "2025-03-10T16:54:10.699210Z",
     "shell.execute_reply": "2025-03-10T16:54:10.698082Z"
    },
    "papermill": {
     "duration": 0.276583,
     "end_time": "2025-03-10T16:54:10.701301",
     "exception": false,
     "start_time": "2025-03-10T16:54:10.424718",
     "status": "completed"
    },
    "tags": []
   },
   "outputs": [
    {
     "name": "stdout",
     "output_type": "stream",
     "text": [
      "Prediction:  [0]\n",
      "Label:  0\n"
     ]
    },
    {
     "data": {
      "image/png": "[encoded data removed]",
      "text/plain": [
       "<Figure size 640x480 with 1 Axes>"
      ]
     },
     "metadata": {},
     "output_type": "display_data"
    }
   ],
   "source": [
    "test_pred(90,W1,b1,W2,b2)"
   ]
  },
  {
   "cell_type": "code",
   "execution_count": 14,
   "id": "f614c86f",
   "metadata": {
    "execution": {
     "iopub.execute_input": "2025-03-10T16:54:10.718745Z",
     "iopub.status.busy": "2025-03-10T16:54:10.718358Z",
     "iopub.status.idle": "2025-03-10T16:54:10.731639Z",
     "shell.execute_reply": "2025-03-10T16:54:10.730393Z"
    },
    "papermill": {
     "duration": 0.023803,
     "end_time": "2025-03-10T16:54:10.733435",
     "exception": false,
     "start_time": "2025-03-10T16:54:10.709632",
     "status": "completed"
    },
    "tags": []
   },
   "outputs": [
    {
     "name": "stdout",
     "output_type": "stream",
     "text": [
      "[4 8 0 5 0 7 7 5 0 5 0 3 0 5 3 8 1 1 1 2 1 7 1 2 0 6 1 6 6 4 7 4 5 1 0 3 0\n",
      " 7 1 7 1 5 4 6 5 7 6 9 6 4 7 3 1 5 7 1 3 6 8 1 9 7 8 2 2 8 9 4 2 6 7 0 9 0\n",
      " 6 8 5 4 6 8 3 5 5 8 5 9 8 9 8 5 3 5 9 9 8 0 4 5 5 7 8 0 5 6 6 5 9 0 5 7 1\n",
      " 4 3 4 1 0 2 2 5 7 4 1 1 2 4 1 7 8 6 8 8 5 0 9 6 1 6 3 6 2 7 1 9 2 3 5 3 1\n",
      " 0 7 9 4 1 1 1 0 9 3 3 8 8 1 8 2 2 2 6 4 7 8 6 8 4 5 5 7 9 6 6 8 3 7 3 8 7\n",
      " 1 1 5 1 7 6 8 2 7 3 2 1 0 4 8 1 5 7 9 4 0 0 4 1 7 7 1 6 9 2 7 5 4 2 0 8 0\n",
      " 2 3 4 8 6 0 3 6 7 1 9 0 0 9 8 2 7 6 8 4 3 5 6 7 4 8 6 5 2 8 9 1 3 5 3 6 1\n",
      " 9 0 9 0 6 7 6 7 4 0 7 5 3 9 1 5 1 0 5 6 6 1 3 2 3 1 8 8 5 8 3 6 5 9 8 8 8\n",
      " 0 4 7 9 7 0 1 0 0 8 4 1 1 0 1 1 5 0 3 9 2 6 8 0 7 5 5 9 9 0 6 9 9 4 8 7 1\n",
      " 3 9 6 8 0 1 9 5 1 3 0 4 8 5 9 8 6 0 1 9 0 8 8 7 9 8 5 0 2 9 1 0 2 4 7 2 4\n",
      " 1 4 1 3 7 5 4 6 9 4 1 9 6 0 2 0 6 5 0 1 6 7 1 8 3 4 0 1 7 3 4 3 3 9 1 8 1\n",
      " 2 0 6 8 3 8 3 5 6 1 8 4 1 3 9 6 9 5 2 5 0 1 9 9 5 5 4 1 9 5 1 7 4 4 8 6 6\n",
      " 8 8 3 6 0 5 7 0 7 7 5 3 6 1 7 7 3 9 1 6 2 3 6 2 9 0 3 8 8 0 9 0 2 2 8 7 5\n",
      " 8 5 2 1 8 6 2 1 3 1 9 4 6 1 5 4 7 9 4 7 7 3 6 1 7 5 7 3 4 1 0 0 7 6 2 6 9\n",
      " 8 0 1 5 6 0 1 0 2 8 9 0 7 7 4 2 7 6 0 8 8 4 1 4 5 5 5 8 0 8 6 4 7 4 5 0 0\n",
      " 7 3 1 1 1 2 7 8 0 1 5 7 4 6 6 0 3 4 3 1 5 9 4 9 8 6 4 6 6 7 3 6 0 3 8 1 0\n",
      " 9 2 4 8 7 1 7 1 0 3 2 4 6 3 0 4 6 9 4 8 3 1 1 1 4 1 9 5 9 7 1 0 5 2 5 3 4\n",
      " 6 5 8 4 4 9 4 1 3 7 4 8 6 6 5 3 8 4 0 5 3 0 8 7 8 2 4 3 3 8 9 6 5 8 9 0 3\n",
      " 3 3 8 6 3 2 9 7 9 2 2 8 2 9 6 3 6 7 6 6 2 4 0 5 8 3 2 1 8 0 0 3 1 1 5 5 4\n",
      " 4 4 3 8 0 2 3 3 2 9 0 8 6 4 6 9 4 6 2 3 4 8 4 1 8 6 5 2 6 5 1 2 5 0 1 4 0\n",
      " 7 3 3 0 9 7 8 9 4 3 1 7 3 4 2 5 2 2 1 3 5 2 3 5 1 3 1 3 2 2 1 7 4 1 9 2 1\n",
      " 2 9 3 9 6 7 6 3 8 5 9 1 8 4 4 8 6 1 2 4 1 0 6 7 8 1 8 0 4 5 7 9 4 5 7 0 3\n",
      " 2 8 9 3 0 9 0 2 8 1 1 9 3 1 0 0 9 1 2 3 4 9 0 7 9 9 3 5 8 5 1 6 8 0 9 7 2\n",
      " 4 5 2 4 2 2 3 5 5 8 1 9 5 4 0 3 1 6 5 9 7 1 9 2 0 9 9 9 9 6 7 9 7 3 7 3 1\n",
      " 6 4 1 9 7 8 9 5 9 1 4 8 4 4 3 6 2 7 8 5 5 7 0 6 3 6 4 6 4 1 6 7 4 8 5 5 5\n",
      " 9 9 9 8 4 2 1 7 7 2 4 3 7 1 7 0 0 2 9 4 0 4 8 9 7 1 6 3 9 9 5 4 9 9 8 6 7\n",
      " 5 6 1 9 6 3 8 2 3 1 7 3 1 4 8 0 9 1 5 8 8 3 2 5 0 9 1 0 3 6 0 6 1 2 6 8 4\n",
      " 4] [4 8 2 5 0 7 7 5 0 5 0 3 2 5 5 6 1 4 1 2 1 7 1 2 0 6 1 6 6 7 7 4 3 1 0 3 0\n",
      " 7 2 9 1 5 4 6 5 9 5 9 6 4 7 3 3 5 7 1 3 6 8 1 7 7 8 2 2 8 9 4 2 6 7 6 7 6\n",
      " 6 8 8 4 6 3 3 5 5 8 5 9 2 9 2 8 5 5 9 9 6 0 4 6 5 7 4 0 5 6 6 5 9 0 5 9 1\n",
      " 4 3 4 2 0 2 2 5 7 4 1 1 2 7 1 4 4 6 8 8 5 0 9 6 6 6 3 6 0 7 1 9 4 3 4 3 1\n",
      " 0 5 9 8 1 1 1 0 7 3 3 2 8 1 8 2 3 2 5 9 9 8 6 8 4 5 5 7 7 6 6 8 3 7 3 8 7\n",
      " 1 1 4 1 7 6 8 2 7 3 0 1 0 1 8 3 5 7 7 4 3 0 9 1 7 7 1 4 9 2 7 5 4 2 0 8 2\n",
      " 2 8 4 8 6 0 3 6 3 1 9 3 0 9 8 3 7 6 8 4 3 5 6 7 4 6 4 1 2 8 9 1 3 3 3 6 4\n",
      " 7 0 7 0 6 7 6 8 4 0 7 5 3 9 1 6 1 0 7 6 2 1 2 2 3 1 2 8 4 8 3 6 5 7 2 8 8\n",
      " 3 4 7 9 7 0 1 0 0 8 4 1 1 0 1 1 5 0 0 9 5 6 8 0 7 5 5 9 9 7 6 9 9 4 8 4 1\n",
      " 3 9 5 8 0 1 8 5 1 3 0 4 8 5 7 8 4 2 1 9 0 1 8 7 7 8 3 0 2 9 1 0 5 5 2 2 4\n",
      " 1 4 1 8 7 5 4 8 9 4 9 9 6 0 2 0 2 5 0 1 6 7 1 8 8 4 0 1 7 3 4 3 3 7 2 8 1\n",
      " 2 0 6 8 3 8 3 5 6 1 4 9 1 0 3 6 9 3 8 5 0 1 9 9 6 5 9 1 7 5 1 7 9 4 8 6 8\n",
      " 8 8 3 6 0 5 7 0 7 9 5 3 6 1 7 7 3 7 1 6 2 3 5 3 9 0 5 4 8 0 9 0 2 2 2 7 7\n",
      " 4 2 8 1 8 6 2 1 8 1 9 9 5 1 8 4 7 7 4 7 1 3 6 3 7 5 7 3 4 1 0 0 7 6 2 6 7\n",
      " 8 0 1 5 1 0 1 0 2 8 9 0 7 7 4 5 7 5 0 8 8 4 1 4 5 5 5 8 6 8 6 7 7 9 3 0 0\n",
      " 7 5 5 1 1 5 4 5 2 1 5 7 4 6 5 0 9 6 5 6 5 7 9 7 8 6 4 0 0 7 3 6 0 3 8 0 0\n",
      " 9 2 9 8 7 1 7 2 0 3 2 4 6 3 0 9 6 9 4 1 3 1 1 1 4 1 7 5 7 7 1 0 5 2 5 3 4\n",
      " 6 5 8 9 4 7 9 1 1 7 4 8 6 6 5 3 8 4 2 5 2 0 8 7 8 2 3 3 3 8 4 6 5 4 9 0 3\n",
      " 3 8 8 6 5 2 9 7 9 8 2 8 2 9 5 3 6 7 6 6 2 9 9 1 4 3 2 8 8 5 0 3 1 1 8 3 4\n",
      " 4 4 3 9 0 2 3 3 2 9 0 8 6 4 6 7 9 6 5 3 4 8 4 1 8 6 5 5 6 3 1 2 5 0 1 7 0\n",
      " 7 3 3 0 9 9 8 4 4 3 1 9 3 4 5 5 8 2 1 3 5 0 3 5 1 3 6 3 2 0 1 7 9 1 9 2 1\n",
      " 2 9 3 9 5 9 2 3 2 5 9 1 2 4 9 8 6 1 8 4 1 3 6 7 8 1 8 0 4 5 7 9 4 5 9 0 3\n",
      " 3 8 7 7 0 7 0 2 8 1 1 7 3 1 0 0 9 1 0 3 4 8 0 7 9 9 3 5 4 5 1 6 8 0 9 7 0\n",
      " 4 5 0 4 3 2 7 4 4 8 1 9 4 4 0 3 1 6 5 8 7 1 9 2 6 9 3 9 9 6 7 4 0 2 7 3 1\n",
      " 6 4 7 7 7 3 9 5 9 5 4 6 7 4 9 6 3 7 8 6 5 7 0 6 3 6 4 0 9 1 6 9 4 8 3 5 3\n",
      " 9 9 2 4 4 2 1 9 2 5 4 3 9 1 7 0 0 2 7 9 0 9 8 9 7 1 6 3 9 8 5 4 4 9 4 6 3\n",
      " 5 6 1 7 6 8 8 2 3 1 7 3 1 4 8 0 9 2 5 8 3 3 2 5 3 9 4 0 7 6 0 6 5 2 6 2 4\n",
      " 4]\n"
     ]
    },
    {
     "data": {
      "text/plain": [
       "0.742"
      ]
     },
     "execution_count": 14,
     "metadata": {},
     "output_type": "execute_result"
    }
   ],
   "source": [
    "dev_pred = make_pred(X_dev ,W1, b1,W2,b2)\n",
    "get_acc(dev_pred , Y_dev)"
   ]
  },
  {
   "cell_type": "code",
   "execution_count": null,
   "id": "a5ba04e9",
   "metadata": {
    "papermill": {
     "duration": 0.007297,
     "end_time": "2025-03-10T16:54:10.749766",
     "exception": false,
     "start_time": "2025-03-10T16:54:10.742469",
     "status": "completed"
    },
    "tags": []
   },
   "outputs": [],
   "source": []
  }
 ],
 "metadata": {
  "kaggle": {
   "accelerator": "none",
   "dataSources": [
    {
     "databundleVersionId": 861823,
     "sourceId": 3004,
     "sourceType": "competition"
    }
   ],
   "dockerImageVersionId": 30918,
   "isGpuEnabled": false,
   "isInternetEnabled": false,
   "language": "python",
   "sourceType": "notebook"
  },
  "kernelspec": {
   "display_name": "Python 3",
   "language": "python",
   "name": "python3"
  },
  "language_info": {
   "codemirror_mode": {
    "name": "ipython",
    "version": 3
   },
   "file_extension": ".py",
   "mimetype": "text/x-python",
   "name": "python",
   "nbconvert_exporter": "python",
   "pygments_lexer": "ipython3",
   "version": "3.10.12"
  },
  "papermill": {
   "default_parameters": {},
   "duration": 48.258726,
   "end_time": "2025-03-10T16:54:11.479454",
   "environment_variables": {},
   "exception": null,
   "input_path": "__notebook__.ipynb",
   "output_path": "__notebook__.ipynb",
   "parameters": {},
   "start_time": "2025-03-10T16:53:23.220728",
   "version": "2.6.0"
  }
 },
 "nbformat": 4,
 "nbformat_minor": 5
}
